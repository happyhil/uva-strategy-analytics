{
 "cells": [
  {
   "cell_type": "code",
   "execution_count": null,
   "id": "royal-welding",
   "metadata": {},
   "outputs": [],
   "source": [
    "import pandas as pd\n",
    "from sklearn.preprocessing import StandardScaler\n",
    "from sklearn.model_selection import train_test_split\n",
    "from sklearn.linear_model import LogisticRegression\n",
    "import matplotlib\n",
    "import matplotlib.pyplot as plt\n",
    "from sklearn.metrics import plot_confusion_matrix\n",
    "plt.style.use(\"seaborn-dark\")\n",
    "plt.rcParams[\"figure.figsize\"] = [9, 6]"
   ]
  },
  {
   "cell_type": "markdown",
   "id": "normal-satin",
   "metadata": {},
   "source": [
    "## -- read in data"
   ]
  },
  {
   "cell_type": "code",
   "execution_count": null,
   "id": "wrong-seventh",
   "metadata": {},
   "outputs": [],
   "source": [
    "df = pd.read_csv('../../datasets/usa_election_dataset.csv')"
   ]
  },
  {
   "cell_type": "code",
   "execution_count": null,
   "id": "plastic-webcam",
   "metadata": {},
   "outputs": [],
   "source": [
    "df['winnerc'] = 0\n",
    "df.loc[lambda x: x['winner'].str.contains('Trump'), 'winnerc'] = 1\n",
    "df['largecity'] = 0\n",
    "df.loc[lambda x: x['tot_pop']>x['tot_pop'].mean(), 'largecity'] = 1"
   ]
  },
  {
   "cell_type": "markdown",
   "id": "preliminary-pipeline",
   "metadata": {},
   "source": [
    "## -- model confs and fit"
   ]
  },
  {
   "cell_type": "code",
   "execution_count": null,
   "id": "stuffed-mistake",
   "metadata": {},
   "outputs": [],
   "source": [
    "seed = 3\n",
    "indepedents = [\n",
    "    'tot_pop',\n",
    "    'yougn',\n",
    "    'female',\n",
    "    'black',\n",
    "]\n",
    "X = df[indepedents].values\n",
    "y = df['winnerc'].values\n",
    "X_train, X_test, y_train, y_test = train_test_split(X, y, test_size=0.22, random_state=seed)"
   ]
  },
  {
   "cell_type": "code",
   "execution_count": null,
   "id": "governing-spencer",
   "metadata": {},
   "outputs": [],
   "source": [
    "scaler = StandardScaler()\n",
    "X_train = scaler.fit_transform(X_train)\n",
    "X_test = scaler.transform(X_test)"
   ]
  },
  {
   "cell_type": "code",
   "execution_count": null,
   "id": "commercial-tennis",
   "metadata": {},
   "outputs": [],
   "source": [
    "classifier = LogisticRegression(random_state=seed, solver='sag', multi_class='ovr')\n",
    "classifier.fit(X_train, y_train)\n",
    "y_predict = classifier.predict(X_test)"
   ]
  },
  {
   "cell_type": "markdown",
   "id": "integral-medication",
   "metadata": {},
   "source": [
    "## -- results"
   ]
  },
  {
   "cell_type": "code",
   "execution_count": null,
   "id": "sharing-gazette",
   "metadata": {},
   "outputs": [],
   "source": [
    "dftmp = pd.DataFrame({'true': y_test, 'pred': y_predict})\n",
    "dftmp['count'] = 1\n",
    "dftmp.groupby(['true', 'pred'])[['count']].sum()"
   ]
  },
  {
   "cell_type": "code",
   "execution_count": null,
   "id": "administrative-bahrain",
   "metadata": {},
   "outputs": [],
   "source": [
    "plot_confusion_matrix(classifier,\n",
    "                      X_test,\n",
    "                      y_test,\n",
    "                      display_labels=['BIDEN', 'TRUMP'],\n",
    "                      cmap=plt.cm.Reds,\n",
    "                      normalize='true')"
   ]
  },
  {
   "cell_type": "markdown",
   "id": "protecting-reasoning",
   "metadata": {},
   "source": [
    "## 1. model evaluation"
   ]
  },
  {
   "cell_type": "markdown",
   "id": "artificial-planner",
   "metadata": {},
   "source": [
    "## 1.1 Accuracy"
   ]
  },
  {
   "cell_type": "code",
   "execution_count": null,
   "id": "fitted-globe",
   "metadata": {},
   "outputs": [],
   "source": [
    "# sklearn metrics\n",
    "\n",
    "from sklearn.metrics import accuracy_score\n",
    "\n",
    "accuracy_score(y_test, y_predict)\n",
    "\n",
    "# defined\n",
    "\n",
    "def accuracy(y_test, y_predict):\n",
    "    \"\"\"Correctly predicted instances over the total predicted instances:  (tp + tn) / (p + n)\"\"\"\n",
    "    return len([t for t, p in zip(y_test, y_predict) if t == p]) / len(y_test)\n",
    "\n",
    "accuracy(y_test, y_predict)"
   ]
  },
  {
   "cell_type": "markdown",
   "id": "associate-stream",
   "metadata": {},
   "source": [
    "## 1.2 Precision"
   ]
  },
  {
   "cell_type": "code",
   "execution_count": null,
   "id": "immune-consequence",
   "metadata": {},
   "outputs": [],
   "source": [
    "# sklearn metrics\n",
    "\n",
    "from sklearn.metrics import precision_score\n",
    "\n",
    "precision_score(y_test, y_predict)\n",
    "\n",
    "# defined\n",
    "\n",
    "def precision(y_test, y_predict):\n",
    "    \"\"\"Correcly predicted instances over the true predictions: tp / (tp + fp)\"\"\"\n",
    "    return len([t for t, p in zip(y_test, y_predict) if t == p and p == 1]) / len([_p for _p in y_predict if _p == 1])\n",
    "\n",
    "precision(y_test, y_predict)"
   ]
  },
  {
   "cell_type": "markdown",
   "id": "wrapped-asset",
   "metadata": {},
   "source": [
    "## 1.3 Recall"
   ]
  },
  {
   "cell_type": "code",
   "execution_count": null,
   "id": "broke-decimal",
   "metadata": {},
   "outputs": [],
   "source": [
    "# sklearn metrics\n",
    "\n",
    "from sklearn.metrics import recall_score\n",
    "\n",
    "recall_score(y_test, y_predict)\n",
    "\n",
    "# defined\n",
    "\n",
    "def recall(y_test, y_predict):\n",
    "    \"\"\"Correcly predicted instances over the true instances, True positive rate: tp / (tp + fn)\"\"\"\n",
    "    return len([t for t, p in zip(y_test, y_predict) if t == p and t == 1]) / len([_t for _t in y_test if _t == 1])\n",
    "\n",
    "recall(y_test, y_predict)"
   ]
  },
  {
   "cell_type": "markdown",
   "id": "collected-bidding",
   "metadata": {},
   "source": [
    "## 1.4 Specificity"
   ]
  },
  {
   "cell_type": "code",
   "execution_count": null,
   "id": "expected-morrison",
   "metadata": {},
   "outputs": [],
   "source": [
    "def specificity(y_test, y_predict):\n",
    "    \"\"\"Correcly predicted instances over the false instances, True negative rate: tn / (fp + tn)\"\"\"\n",
    "    return len([t for t, p in zip(y_test, y_predict) if t == p and t == 0]) / len([_t for _t in y_test if _t == 0])\n",
    "\n",
    "specificity(y_test, y_predict)"
   ]
  },
  {
   "cell_type": "markdown",
   "id": "fixed-magnitude",
   "metadata": {},
   "source": [
    "## 1.5 FPR"
   ]
  },
  {
   "cell_type": "code",
   "execution_count": null,
   "id": "excellent-gnome",
   "metadata": {},
   "outputs": [],
   "source": [
    "def false_positive_rate(y_test, y_predict):\n",
    "    \"\"\"Wrongly predicted instances over the false instances, False positive rate: fp / (fp / tn)\"\"\"\n",
    "    return len([t for t, p in zip(y_test, y_predict) if t != p and t == 0]) / len([_t for _t in y_test if _t == 0])\n",
    "\n",
    "false_positive_rate(y_test, y_predict)"
   ]
  },
  {
   "cell_type": "markdown",
   "id": "geographic-packing",
   "metadata": {},
   "source": [
    "## 1.6 F-measure"
   ]
  },
  {
   "cell_type": "code",
   "execution_count": null,
   "id": "adapted-angel",
   "metadata": {},
   "outputs": [],
   "source": [
    "# sklearn metrics\n",
    "\n",
    "from sklearn.metrics import f1_score\n",
    "\n",
    "f1_score(y_test, y_predict)\n",
    "\n",
    "# defined\n",
    "\n",
    "def precision(y_test, y_predict):\n",
    "    \"\"\"Correcly predicted instances over the true predictions: tp / (tp + fp)\"\"\"\n",
    "    return len([t for t, p in zip(y_test, y_predict) if t == p and p == 1]) / len([_p for _p in y_predict if _p == 1])\n",
    "\n",
    "def recall(y_test, y_predict):\n",
    "    \"\"\"Correcly predicted instances over the true instances, True positive rate: tp / (tp + fn)\"\"\"\n",
    "    return len([t for t, p in zip(y_test, y_predict) if t == p and t == 1]) / len([_t for _t in y_test if _t == 1])\n",
    "\n",
    "def f_measure(y_test, y_predict):\n",
    "    \"\"\"Measure to balance fp & fn\"\"\"\n",
    "    prec = precision(y_test, y_predict)\n",
    "    rec = recall(y_test, y_predict)\n",
    "    return 2 * (prec * rec) / (prec + rec)\n",
    "\n",
    "f_measure(y_test, y_predict)"
   ]
  },
  {
   "cell_type": "markdown",
   "id": "yellow-circle",
   "metadata": {},
   "source": [
    "## 2. ROC graph - interesting to compare different models"
   ]
  },
  {
   "cell_type": "code",
   "execution_count": null,
   "id": "stopped-synthesis",
   "metadata": {},
   "outputs": [],
   "source": [
    "def recall(y_test, y_predict):\n",
    "    \"\"\"Correcly predicted instances over the true instances, True positive rate: tp / (tp + fn)\"\"\"\n",
    "    return len([t for t, p in zip(y_test, y_predict) if t == p and t == 1]) / len([_t for _t in y_test if _t == 1])\n",
    "\n",
    "def false_positive_rate(y_test, y_predict):\n",
    "    \"\"\"Wrongly predicted instances over the false instances, False positive rate: fp / (fp / tn)\"\"\"\n",
    "    return len([t for t, p in zip(y_test, y_predict) if t != p and t == 0]) / len([_t for _t in y_test if _t == 0])\n",
    "\n",
    "def roc_graph(y_test, y_predict):\n",
    "    \"\"\"Plot both the TPR and the FPR in scattered graph\"\"\"\n",
    "    tpr = recall(y_test, y_predict)\n",
    "    fpr = false_positive_rate(y_test, y_predict)\n",
    "    plt.scatter(fpr, tpr)\n",
    "    plt.ylabel('True Positive Rate')\n",
    "    plt.xlabel('False Positive Rate')\n",
    "    plt.xlim(0, 1)\n",
    "    plt.ylim(0, 1)\n",
    "    \n",
    "roc_graph(y_test, y_predict)"
   ]
  },
  {
   "cell_type": "markdown",
   "id": "choice-webcam",
   "metadata": {},
   "source": [
    "## 3. ROC curve"
   ]
  },
  {
   "cell_type": "code",
   "execution_count": null,
   "id": "wrong-fashion",
   "metadata": {},
   "outputs": [],
   "source": [
    "from sklearn.linear_model import LogisticRegression\n",
    "from sklearn.metrics import roc_auc_score\n",
    "from sklearn.metrics import roc_curve\n",
    "\n",
    "# define sets\n",
    "\n",
    "classifier = LogisticRegression(random_state=9, solver='sag', multi_class='ovr')\n",
    "classifier.fit(X_train, y_train)\n",
    "\n",
    "y_probs = classifier.predict_proba(X_test)\n",
    "y_probs_pos = y_probs[:, 1]\n",
    "random_probs_pos = [0 for _ in range(len(y_test))]\n",
    "\n",
    "random_auc = roc_auc_score(y_test, random_probs_pos)\n",
    "classifier_auc = roc_auc_score(y_test, y_probs_pos)\n",
    "rn_fpr, rn_tpr, _ = roc_curve(y_test, random_probs_pos)\n",
    "lr_fpr, lr_tpr, _ = roc_curve(y_test, y_probs_pos)\n",
    "\n",
    "plt.plot(rn_fpr, rn_tpr, linestyle='--', label='Random')\n",
    "plt.plot(lr_fpr, lr_tpr, marker='.', label='Logistic')\n",
    "plt.xlabel('False Positive Rate')\n",
    "plt.ylabel('True Positive Rate')\n",
    "plt.legend()\n",
    "plt.show()"
   ]
  }
 ],
 "metadata": {
  "kernelspec": {
   "display_name": "Python 3",
   "language": "python",
   "name": "python3"
  },
  "language_info": {
   "codemirror_mode": {
    "name": "ipython",
    "version": 3
   },
   "file_extension": ".py",
   "mimetype": "text/x-python",
   "name": "python",
   "nbconvert_exporter": "python",
   "pygments_lexer": "ipython3",
   "version": "3.8.6"
  }
 },
 "nbformat": 4,
 "nbformat_minor": 5
}
