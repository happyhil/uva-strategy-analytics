{
 "cells": [
  {
   "cell_type": "code",
   "execution_count": null,
   "id": "cultural-operation",
   "metadata": {},
   "outputs": [],
   "source": [
    "import pandas as pd\n",
    "import numpy as np\n",
    "from sklearn.linear_model import LinearRegression\n",
    "from sklearn.model_selection import train_test_split\n",
    "from sklearn.metrics import mean_absolute_error, r2_score\n",
    "import matplotlib\n",
    "import matplotlib.pyplot as plt\n",
    "plt.style.use(\"ggplot\")\n",
    "plt.rcParams[\"figure.figsize\"] = [12, 8]"
   ]
  },
  {
   "cell_type": "code",
   "execution_count": null,
   "id": "destroyed-westminster",
   "metadata": {},
   "outputs": [],
   "source": [
    "df = pd.read_csv('../../datasets/usa_election_dataset.csv')"
   ]
  },
  {
   "cell_type": "code",
   "execution_count": null,
   "id": "floating-startup",
   "metadata": {},
   "outputs": [],
   "source": [
    "df[:5]"
   ]
  },
  {
   "cell_type": "markdown",
   "id": "funny-population",
   "metadata": {},
   "source": [
    "## linear regression (simple / multiple) on turn out rate"
   ]
  },
  {
   "cell_type": "code",
   "execution_count": null,
   "id": "transparent-charm",
   "metadata": {},
   "outputs": [],
   "source": [
    "print(f\"Average turn out rate: {round(df['turnout'].mean() * 100, 3)}%\")\n",
    "print(f\"Std of turn out rate: {round(df['turnout'].std(),  3) * 100}%\")"
   ]
  },
  {
   "cell_type": "code",
   "execution_count": null,
   "id": "norwegian-double",
   "metadata": {},
   "outputs": [],
   "source": [
    "indepedent_variables = ['yougn', 'female', 'black']\n",
    "# indepedent_variables = ['yougn']\n",
    "X = df[indepedent_variables].values\n",
    "if len(indepedent_variables) == 1:\n",
    "    X = np.reshape(X, (-1, 1))\n",
    "y = df['turnout'].values\n",
    "\n",
    "X_train, X_test, y_train, y_test = train_test_split(X, y, test_size=0.22, random_state=42)\n",
    "\n",
    "regmodel = LinearRegression()\n",
    "regmodel.fit(X_train, y_train)\n",
    "y_predict = regmodel.predict(X_test)"
   ]
  },
  {
   "cell_type": "code",
   "execution_count": null,
   "id": "marine-equipment",
   "metadata": {},
   "outputs": [],
   "source": [
    "print('Model fits:')\n",
    "print(f'- intercept: {round(regmodel.intercept_, 3)}')\n",
    "for i in range(len(indepedent_variables)):\n",
    "    print(f'- {indepedent_variables[i]}: {round(regmodel.coef_[i], 3)}')\n",
    "print('Model stats:')\n",
    "print(f'- error: {round(mean_absolute_error(y_test, y_predict), 5)}')\n",
    "print(f'- r2: {round(r2_score(y_test, y_predict), 5)}')"
   ]
  },
  {
   "cell_type": "code",
   "execution_count": null,
   "id": "infrared-confirmation",
   "metadata": {},
   "outputs": [],
   "source": [
    "for i in range(len(indepedent_variables)):\n",
    "    plt.scatter([x[i] for x in X_test], y_test,  color='black')\n",
    "    plt.scatter([x[i] for x in X_test], y_predict, color='blue')\n",
    "    plt.show()"
   ]
  }
 ],
 "metadata": {
  "kernelspec": {
   "display_name": "Python 3",
   "language": "python",
   "name": "python3"
  },
  "language_info": {
   "codemirror_mode": {
    "name": "ipython",
    "version": 3
   },
   "file_extension": ".py",
   "mimetype": "text/x-python",
   "name": "python",
   "nbconvert_exporter": "python",
   "pygments_lexer": "ipython3",
   "version": "3.8.6"
  }
 },
 "nbformat": 4,
 "nbformat_minor": 5
}
