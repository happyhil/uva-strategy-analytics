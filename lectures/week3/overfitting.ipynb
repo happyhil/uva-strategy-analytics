{
 "cells": [
  {
   "cell_type": "code",
   "execution_count": null,
   "id": "democratic-debut",
   "metadata": {},
   "outputs": [],
   "source": [
    "import pandas as pd\n",
    "import matplotlib\n",
    "import matplotlib.pyplot as plt\n",
    "plt.rcParams[\"figure.figsize\"] = [10, 10]"
   ]
  },
  {
   "cell_type": "code",
   "execution_count": null,
   "id": "speaking-variance",
   "metadata": {},
   "outputs": [],
   "source": [
    "df = pd.read_csv('../../datasets/usa_election_dataset.csv')"
   ]
  },
  {
   "cell_type": "code",
   "execution_count": null,
   "id": "arranged-snowboard",
   "metadata": {},
   "outputs": [],
   "source": [
    "df['winnerc'] = 0\n",
    "df.loc[lambda x: x['winner'].str.contains('Trump'), 'winnerc'] = 1\n",
    "df['largecity'] = 0\n",
    "df.loc[lambda x: x['tot_pop']>x['tot_pop'].mean(), 'largecity'] = 1"
   ]
  },
  {
   "cell_type": "code",
   "execution_count": null,
   "id": "smaller-booth",
   "metadata": {},
   "outputs": [],
   "source": [
    "df[:5]"
   ]
  },
  {
   "cell_type": "markdown",
   "id": "bronze-natural",
   "metadata": {},
   "source": [
    "## 1. overfitting"
   ]
  },
  {
   "cell_type": "markdown",
   "id": "binary-terry",
   "metadata": {},
   "source": [
    "### 1.1 tree induction: fitting graph"
   ]
  },
  {
   "cell_type": "code",
   "execution_count": null,
   "id": "higher-reference",
   "metadata": {},
   "outputs": [],
   "source": [
    "from sklearn import metrics\n",
    "from sklearn.tree import DecisionTreeClassifier\n",
    "from sklearn.preprocessing import StandardScaler\n",
    "from sklearn.model_selection import train_test_split\n",
    "plt.style.use(\"seaborn-dark\")"
   ]
  },
  {
   "cell_type": "code",
   "execution_count": null,
   "id": "governmental-obligation",
   "metadata": {},
   "outputs": [],
   "source": [
    "def tree_fit_score(X_train, y_train, X_test=None, y_test=None, n_nodes=2, use_testset=True):\n",
    "    \"\"\"Fit model on training data, and calculate accuracy based on training or test data\"\"\"\n",
    "    \n",
    "    classifier = DecisionTreeClassifier(max_leaf_nodes=n_nodes, random_state=3)\n",
    "    classifier.fit(X_train, y_train)\n",
    "    if use_testset == False:\n",
    "        y_predict = classifier.predict(X_train)\n",
    "        score = metrics.accuracy_score(y_train, y_predict)\n",
    "    else:\n",
    "        y_predict = classifier.predict(X_test)\n",
    "        score = metrics.accuracy_score(y_test, y_predict)\n",
    "    return score\n",
    "    \n",
    "def n_node_increase_scores(X_train, y_train, X_test, y_test, node_range):\n",
    "    \"\"\"Get model accuracies for the given n nodes range\"\"\"\n",
    "    \n",
    "    rows = []\n",
    "    for n in node_range:\n",
    "        _score_full = tree_fit_score(X_train, y_train, n_nodes=n, use_testset=False)\n",
    "        _score_testtrain = tree_fit_score(X_train, y_train, X_test, y_test, n_nodes=n)\n",
    "        rows.append([n, _score_full, _score_testtrain])\n",
    "        \n",
    "    return rows\n",
    "\n",
    "def plot_fitting_graph(rows):\n",
    "    \"\"\"Plot n nodes accuracies based on both training and test data\"\"\"\n",
    "    \n",
    "    plt.plot([y[0] for y in rows], [y[1] for y in rows], label='train_performance', color='k')\n",
    "    plt.plot([y[0] for y in rows], [y[2] for y in rows], label='test_performance', color='k', linestyle='dashed')\n",
    "    plt.legend()\n",
    "    \n",
    "def main():\n",
    "    \"\"\"Execute\"\"\"\n",
    "    \n",
    "    indepedents = [\n",
    "        'tot_pop',\n",
    "        'yougn',\n",
    "        'female',\n",
    "        'black',\n",
    "    ]\n",
    "    dependent = 'winnerc'\n",
    "    start_n_nodes = 2\n",
    "    end_n_nodes = 50\n",
    "    \n",
    "    X = df[indepedents].values\n",
    "    y = df[dependent].values\n",
    "    X_train, X_test, y_train, y_test = train_test_split(X, y, test_size=0.25, random_state=3)\n",
    "    \n",
    "    scaler = StandardScaler()\n",
    "    X_train = scaler.fit_transform(X_train)\n",
    "    X_test = scaler.transform(X_test)\n",
    "\n",
    "    scores = n_node_increase_scores(X_train, y_train, X_test, y_test, range(start_n_nodes, end_n_nodes+1))\n",
    "    plot_fitting_graph(scores)\n",
    "    \n",
    "main()"
   ]
  },
  {
   "cell_type": "markdown",
   "id": "dried-female",
   "metadata": {},
   "source": [
    "### 1.2 classification: learning curve"
   ]
  },
  {
   "cell_type": "code",
   "execution_count": null,
   "id": "suburban-championship",
   "metadata": {},
   "outputs": [],
   "source": [
    "import numpy as np\n",
    "import random\n",
    "from sklearn.preprocessing import StandardScaler\n",
    "from sklearn.model_selection import train_test_split\n",
    "from sklearn.tree import DecisionTreeClassifier\n",
    "from sklearn.linear_model import LogisticRegression\n",
    "from sklearn.svm import LinearSVC\n",
    "from sklearn import metrics"
   ]
  },
  {
   "cell_type": "code",
   "execution_count": null,
   "id": "coated-rings",
   "metadata": {},
   "outputs": [],
   "source": [
    "def run_models(X_train, X_test, y_train, y_test, seed=10):\n",
    "    \"\"\"fit and predict for tree, svm and logistic classification models\"\"\"\n",
    "    \n",
    "    treeclassifier = DecisionTreeClassifier(max_leaf_nodes=7, random_state=seed)\n",
    "    treeclassifier.fit(X_train, y_train)\n",
    "    y_predict = treeclassifier.predict(X_test)\n",
    "    treescore = metrics.accuracy_score(y_test, y_predict)\n",
    "    \n",
    "    svmclassifier = LinearSVC(max_iter=100000, dual=True, random_state=seed)\n",
    "    svmclassifier.fit(X_train, y_train)\n",
    "    y_predict = svmclassifier.predict(X_test)\n",
    "    svmscore = metrics.accuracy_score(y_test, y_predict)\n",
    "    \n",
    "    lrclassifier = LogisticRegression(solver='sag', multi_class='ovr', random_state=seed)\n",
    "    lrclassifier.fit(X_train, y_train)\n",
    "    y_predict = lrclassifier.predict(X_test)\n",
    "    lrscore = metrics.accuracy_score(y_test, y_predict)\n",
    "    \n",
    "    return [treescore, svmscore, lrscore]\n",
    "\n",
    "def trainset_increase_scores(X_train, X_test, y_train, y_test, steps, end):\n",
    "    \"\"\"increase train set size as model input\"\"\"\n",
    "    \n",
    "    scores = []\n",
    "    for n in range(steps, end+steps, steps):\n",
    "        random_indices = random.sample(range(len(X_train)), n)\n",
    "        xtrains, ytrains = [], []\n",
    "        for ri in random_indices:\n",
    "            xtrains.append(X_train[ri])\n",
    "            ytrains.append(y_train[ri])\n",
    "        X_train_select = np.array(xtrains)\n",
    "        y_train_select = np.array(ytrains)\n",
    "        \n",
    "        runscores = run_models(X_train_select, X_test, y_train_select, y_test)\n",
    "        scores.append([n] + runscores)\n",
    "        \n",
    "    return scores\n",
    "\n",
    "def plot_learning_curve(rows):\n",
    "    \"\"\"Plot model accuracies over increasing train set size\"\"\"\n",
    "    \n",
    "    plt.plot([y[0] for y in rows], [y[1] for y in rows], label='tree', color='r')\n",
    "    plt.plot([y[0] for y in rows], [y[2] for y in rows], label='svm', color='b',)\n",
    "    plt.plot([y[0] for y in rows], [y[3] for y in rows], label='lr', color='k',)\n",
    "    plt.legend()\n",
    "    \n",
    "def main():\n",
    "    \"\"\"Execute\"\"\"\n",
    "    \n",
    "    indepedents = [\n",
    "        'tot_pop',\n",
    "        'yougn',\n",
    "        'female',\n",
    "        'black',\n",
    "    ]\n",
    "    dependent = 'winnerc'\n",
    "    start_n_nodes = 2\n",
    "    end_n_nodes = 50\n",
    "    \n",
    "    X = df[indepedents].values\n",
    "    y = df[dependent].values\n",
    "    X_train, X_test, y_train, y_test = train_test_split(X, y, test_size=0.25, random_state=3)\n",
    "    \n",
    "    scaler = StandardScaler()\n",
    "    X_train = scaler.fit_transform(X_train)\n",
    "    X_test = scaler.transform(X_test)\n",
    "    \n",
    "    scores = trainset_increase_scores(X_train, X_test, y_train, y_test, 20, 1000)\n",
    "    plot_learning_curve(scores)\n",
    "    \n",
    "main()"
   ]
  },
  {
   "cell_type": "markdown",
   "id": "proper-timer",
   "metadata": {},
   "source": [
    "### 1.3 bagging"
   ]
  },
  {
   "cell_type": "code",
   "execution_count": null,
   "id": "signal-replication",
   "metadata": {},
   "outputs": [],
   "source": [
    "from sklearn.svm import SVC\n",
    "from sklearn.ensemble import BaggingClassifier\n",
    "from sklearn import metrics"
   ]
  },
  {
   "cell_type": "code",
   "execution_count": null,
   "id": "popular-england",
   "metadata": {},
   "outputs": [],
   "source": [
    "indepedents = [\n",
    "    'tot_pop',\n",
    "    'yougn',\n",
    "    'female',\n",
    "    'black',\n",
    "]\n",
    "dependent = 'winnerc'\n",
    "\n",
    "X = df[indepedents].values\n",
    "y = df[dependent].values\n",
    "X_train, X_test, y_train, y_test = train_test_split(X, y, test_size=0.25, random_state=3)\n",
    "\n",
    "scaler = StandardScaler()\n",
    "X_train = scaler.fit_transform(X_train)\n",
    "X_test = scaler.transform(X_test)"
   ]
  },
  {
   "cell_type": "code",
   "execution_count": null,
   "id": "promotional-thinking",
   "metadata": {},
   "outputs": [],
   "source": [
    "classifier =  BaggingClassifier(base_estimator=SVC(),\n",
    "                                n_estimators=10,\n",
    "                                random_state=30)\n",
    "classifier.fit(X_train, y_train)\n",
    "y_predict = classifier.predict(X_test)\n",
    "print(f'model accuracy: {round(metrics.accuracy_score(y_test, y_predict), 3)}')"
   ]
  },
  {
   "cell_type": "markdown",
   "id": "ambient-embassy",
   "metadata": {},
   "source": [
    "### 1.4 boosting"
   ]
  },
  {
   "cell_type": "code",
   "execution_count": null,
   "id": "dimensional-separate",
   "metadata": {},
   "outputs": [],
   "source": [
    "from sklearn.ensemble import GradientBoostingClassifier\n",
    "from sklearn import metrics"
   ]
  },
  {
   "cell_type": "code",
   "execution_count": null,
   "id": "biological-account",
   "metadata": {},
   "outputs": [],
   "source": [
    "indepedents = [\n",
    "    'tot_pop',\n",
    "    'yougn',\n",
    "    'female',\n",
    "    'black',\n",
    "]\n",
    "dependent = 'winnerc'\n",
    "\n",
    "X = df[indepedents].values\n",
    "y = df[dependent].values\n",
    "X_train, X_test, y_train, y_test = train_test_split(X, y, test_size=0.25, random_state=3)\n",
    "\n",
    "scaler = StandardScaler()\n",
    "X_train = scaler.fit_transform(X_train)\n",
    "X_test = scaler.transform(X_test)"
   ]
  },
  {
   "cell_type": "code",
   "execution_count": null,
   "id": "outside-georgia",
   "metadata": {},
   "outputs": [],
   "source": [
    "params = {\n",
    "    'n_estimators': 500,\n",
    "    'max_depth': 4,\n",
    "    'random_state': 10,\n",
    "    'min_samples_split': 5,\n",
    "    'learning_rate': 0.01,\n",
    "}\n",
    "\n",
    "classifier = GradientBoostingClassifier(**params)\n",
    "classifier.fit(X_train, y_train)\n",
    "y_predict = classifier.predict(X_test)\n",
    "print(f'model accuracy: {round(metrics.accuracy_score(y_test, y_predict), 3)}')"
   ]
  }
 ],
 "metadata": {
  "kernelspec": {
   "display_name": "Python 3",
   "language": "python",
   "name": "python3"
  },
  "language_info": {
   "codemirror_mode": {
    "name": "ipython",
    "version": 3
   },
   "file_extension": ".py",
   "mimetype": "text/x-python",
   "name": "python",
   "nbconvert_exporter": "python",
   "pygments_lexer": "ipython3",
   "version": "3.8.6"
  }
 },
 "nbformat": 4,
 "nbformat_minor": 5
}
