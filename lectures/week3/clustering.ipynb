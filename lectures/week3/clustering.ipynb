{
 "cells": [
  {
   "cell_type": "code",
   "execution_count": null,
   "id": "continental-airport",
   "metadata": {},
   "outputs": [],
   "source": [
    "import matplotlib\n",
    "import matplotlib.pyplot as plt\n",
    "plt.style.use(\"seaborn\")\n",
    "plt.rcParams[\"figure.figsize\"] = [8, 7]"
   ]
  },
  {
   "cell_type": "markdown",
   "id": "premium-outreach",
   "metadata": {},
   "source": [
    "## 1. Distance metrix"
   ]
  },
  {
   "cell_type": "markdown",
   "id": "corporate-geography",
   "metadata": {},
   "source": [
    "### 1.1 Manhatten distance"
   ]
  },
  {
   "cell_type": "code",
   "execution_count": null,
   "id": "moved-smart",
   "metadata": {},
   "outputs": [],
   "source": [
    "import random\n",
    "\n",
    "def manhatten_distance(point1, point2):\n",
    "    return sum(abs(a-b) for a, b in zip(point1, point2))\n",
    "\n",
    "points = []\n",
    "for r in range(2):\n",
    "    points.append([random.randint(1, 10),\n",
    "                   random.randint(1, 10),\n",
    "                   random.randint(1, 10)])\n",
    "\n",
    "dis = manhatten_distance(points[0], points[1])\n",
    "\n",
    "print(dis)"
   ]
  },
  {
   "cell_type": "markdown",
   "id": "tight-announcement",
   "metadata": {},
   "source": [
    "### 1.2 Euclidean distance"
   ]
  },
  {
   "cell_type": "code",
   "execution_count": null,
   "id": "demonstrated-marketing",
   "metadata": {},
   "outputs": [],
   "source": [
    "import random\n",
    "from scipy.spatial import distance\n",
    "\n",
    "points = []\n",
    "for r in range(2):\n",
    "    points.append([random.randint(1, 10),\n",
    "                   random.randint(1, 10),\n",
    "                   random.randint(1, 10)])\n",
    "    \n",
    "dis = distance.euclidean(points[0], points[1])\n",
    "\n",
    "print(dis)"
   ]
  },
  {
   "cell_type": "code",
   "execution_count": null,
   "id": "adjustable-marathon",
   "metadata": {},
   "outputs": [],
   "source": [
    "import random\n",
    "import numpy as np\n",
    "\n",
    "points = []\n",
    "for r in range(2):\n",
    "    points.append([random.randint(1, 10),\n",
    "                   random.randint(1, 10),\n",
    "                   random.randint(1, 10)])\n",
    "    \n",
    "points = np.array(points)\n",
    "dis = np.linalg.norm(points[0] - points[1])\n",
    "\n",
    "print(dis)"
   ]
  },
  {
   "cell_type": "code",
   "execution_count": null,
   "id": "diagnostic-range",
   "metadata": {},
   "outputs": [],
   "source": [
    "import random\n",
    "import numpy as np\n",
    "\n",
    "def euclidean_distance(point1, point2):\n",
    "    return np.sqrt(np.sum([(a-b)*(a-b) for a, b in zip(point1, point2)]))\n",
    "\n",
    "points = []\n",
    "for r in range(2):\n",
    "    points.append([random.randint(1, 10),\n",
    "                   random.randint(1, 10),\n",
    "                   random.randint(1, 10)])\n",
    "    \n",
    "dis = euclidean_distance(points[0], points[1])\n",
    "print(dis)"
   ]
  },
  {
   "cell_type": "markdown",
   "id": "harmful-nurse",
   "metadata": {},
   "source": [
    "## 2. Clustering"
   ]
  },
  {
   "cell_type": "markdown",
   "id": "entire-bible",
   "metadata": {},
   "source": [
    "### 2.1 k nearest neighbors"
   ]
  },
  {
   "cell_type": "code",
   "execution_count": null,
   "id": "hindu-length",
   "metadata": {},
   "outputs": [],
   "source": [
    "import pandas as pd\n",
    "from sklearn.preprocessing import StandardScaler\n",
    "from sklearn.model_selection import train_test_split\n",
    "from sklearn.neighbors import KNeighborsClassifier\n",
    "from sklearn import metrics"
   ]
  },
  {
   "cell_type": "code",
   "execution_count": null,
   "id": "convertible-precipitation",
   "metadata": {},
   "outputs": [],
   "source": [
    "df = pd.read_csv('../../datasets/usa_election_dataset.csv')"
   ]
  },
  {
   "cell_type": "code",
   "execution_count": null,
   "id": "chubby-sender",
   "metadata": {},
   "outputs": [],
   "source": [
    "df['winnerc'] = 0\n",
    "df.loc[lambda x: x['winner'].str.contains('Trump'), 'winnerc'] = 1\n",
    "df['largecity'] = 0\n",
    "df.loc[lambda x: x['tot_pop']>x['tot_pop'].mean(), 'largecity'] = 1"
   ]
  },
  {
   "cell_type": "code",
   "execution_count": null,
   "id": "rotary-function",
   "metadata": {},
   "outputs": [],
   "source": [
    "df[:5]"
   ]
  },
  {
   "cell_type": "code",
   "execution_count": null,
   "id": "acute-subcommittee",
   "metadata": {},
   "outputs": [],
   "source": [
    "indepedents = [\n",
    "    'tot_pop',\n",
    "    'yougn',\n",
    "    'female',\n",
    "    'black',\n",
    "]\n",
    "dependent = 'winnerc'\n",
    "\n",
    "X = df[indepedents].values\n",
    "y = df[dependent].values\n",
    "X_train, X_test, y_train, y_test = train_test_split(X, y, test_size=0.25, random_state=3)\n",
    "\n",
    "scaler = StandardScaler()\n",
    "X_train = scaler.fit_transform(X_train)\n",
    "X_test = scaler.transform(X_test)"
   ]
  },
  {
   "cell_type": "code",
   "execution_count": null,
   "id": "distinct-width",
   "metadata": {},
   "outputs": [],
   "source": [
    "neigh = KNeighborsClassifier(n_neighbors=3).fit(X_train, y_train)\n",
    "y_predict = neigh.predict(X_test)\n",
    "print(f'model accuracy: {round(metrics.accuracy_score(y_test, y_predict), 3)}')"
   ]
  },
  {
   "cell_type": "markdown",
   "id": "known-consumer",
   "metadata": {},
   "source": [
    "### 2.2 Hierarchical clustering"
   ]
  },
  {
   "cell_type": "code",
   "execution_count": null,
   "id": "beginning-windsor",
   "metadata": {},
   "outputs": [],
   "source": [
    "import numpy as np\n",
    "import random\n",
    "from sklearn.cluster import AgglomerativeClustering\n",
    "import matplotlib\n",
    "import matplotlib.pyplot as plt\n",
    "plt.style.use(\"seaborn\")\n",
    "plt.rcParams[\"figure.figsize\"] = [8, 7]\n",
    "\n",
    "X = []\n",
    "for r in range(20):\n",
    "    X.append([random.randint(1, 8),\n",
    "              random.randint(1, 10)])\n",
    "for r in range(20):\n",
    "    X.append([random.randint(10, 20),\n",
    "              random.randint(12, 20)])\n",
    "for r in range(20):\n",
    "    X.append([random.randint(22, 28),\n",
    "              random.randint(10, 15)])\n",
    "X = np.array(X)\n",
    "\n",
    "clustering = AgglomerativeClustering(n_clusters=3).fit(X)\n",
    "\n",
    "plt.scatter(X[:,0], X[:,1], c=clustering.labels_, cmap='rainbow')"
   ]
  },
  {
   "cell_type": "markdown",
   "id": "magnetic-northwest",
   "metadata": {},
   "source": [
    "#### 2.2.1 Dendrogram"
   ]
  },
  {
   "cell_type": "code",
   "execution_count": null,
   "id": "anticipated-ridge",
   "metadata": {},
   "outputs": [],
   "source": [
    "import numpy as np\n",
    "import random\n",
    "from sklearn.cluster import AgglomerativeClustering\n",
    "from scipy.cluster.hierarchy import dendrogram\n",
    "import matplotlib\n",
    "import matplotlib.pyplot as plt\n",
    "plt.style.use(\"seaborn\")\n",
    "plt.rcParams[\"figure.figsize\"] = [8, 7]\n",
    "\n",
    "def plot_dendrogram(model, **kwargs):\n",
    "    counts = np.zeros(model.children_.shape[0])\n",
    "    n_samples = len(model.labels_)\n",
    "    for i, merge in enumerate(model.children_):\n",
    "        current_count = 0\n",
    "        for child_idx in merge:\n",
    "            if child_idx < n_samples:\n",
    "                current_count += 1  # leaf node\n",
    "            else:\n",
    "                current_count += counts[child_idx - n_samples]\n",
    "        counts[i] = current_count\n",
    "\n",
    "    linkage_matrix = np.column_stack([model.children_, model.distances_,\n",
    "                                      counts]).astype(float)\n",
    "    dendrogram(linkage_matrix, **kwargs)\n",
    "    \n",
    "X = []\n",
    "for r in range(20):\n",
    "    X.append([random.randint(1, 8),\n",
    "              random.randint(1, 10)])\n",
    "for r in range(20):\n",
    "    X.append([random.randint(10, 20),\n",
    "              random.randint(12, 20)])\n",
    "for r in range(20):\n",
    "    X.append([random.randint(22, 28),\n",
    "              random.randint(10, 15)])\n",
    "X = np.array(X)\n",
    "    \n",
    "clustering = AgglomerativeClustering(distance_threshold=0, n_clusters=None).fit(X)\n",
    "\n",
    "plt.title('Hierarchical Clustering Dendrogram')\n",
    "plot_dendrogram(clustering, truncate_mode='level', p=3)\n",
    "plt.xlabel(\"Number of points in node (or index of point if no parenthesis).\")\n",
    "plt.show()"
   ]
  },
  {
   "cell_type": "markdown",
   "id": "eight-essence",
   "metadata": {},
   "source": [
    "### 2.3 K means clustering"
   ]
  },
  {
   "cell_type": "code",
   "execution_count": null,
   "id": "solar-tourism",
   "metadata": {},
   "outputs": [],
   "source": [
    "import random\n",
    "import numpy as np\n",
    "from sklearn.cluster import KMeans\n",
    "import matplotlib\n",
    "import matplotlib.pyplot as plt\n",
    "plt.style.use(\"seaborn\")\n",
    "plt.rcParams[\"figure.figsize\"] = [8, 7]\n",
    "\n",
    "X = []\n",
    "for r in range(20):\n",
    "    X.append([random.randint(1, 8),\n",
    "              random.randint(1, 10)])\n",
    "for r in range(20):\n",
    "    X.append([random.randint(10, 20),\n",
    "              random.randint(12, 20)])\n",
    "for r in range(20):\n",
    "    X.append([random.randint(22, 28),\n",
    "              random.randint(3, 10)])\n",
    "X = np.array(X)\n",
    "\n",
    "kmeans = KMeans(n_clusters=3).fit(X)\n",
    "\n",
    "plt.scatter(X[:,0], X[:,1], c=kmeans.labels_, cmap='rainbow')"
   ]
  },
  {
   "cell_type": "markdown",
   "id": "vocational-fabric",
   "metadata": {},
   "source": [
    "#### 2.3.1 elbow"
   ]
  },
  {
   "cell_type": "code",
   "execution_count": null,
   "id": "handed-eligibility",
   "metadata": {},
   "outputs": [],
   "source": [
    "import random\n",
    "import numpy as np\n",
    "from sklearn.cluster import KMeans\n",
    "import matplotlib\n",
    "import matplotlib.pyplot as plt\n",
    "plt.style.use(\"seaborn\")\n",
    "plt.rcParams[\"figure.figsize\"] = [8, 7]\n",
    "\n",
    "X = []\n",
    "for r in range(20):\n",
    "    X.append([random.randint(1, 8),\n",
    "              random.randint(1, 10)])\n",
    "for r in range(20):\n",
    "    X.append([random.randint(10, 20),\n",
    "              random.randint(12, 20)])\n",
    "for r in range(20):\n",
    "    X.append([random.randint(22, 28),\n",
    "              random.randint(3, 10)])\n",
    "X = np.array(X)\n",
    "\n",
    "distances = []\n",
    "n_cluster_range = range(1, 11)\n",
    "for k in n_cluster_range:\n",
    "    kmeans = KMeans(n_clusters=k).fit(X)\n",
    "    distances.append(kmeans.inertia_)\n",
    "\n",
    "plt.plot(n_cluster_range, distances, 'bx-')\n",
    "plt.xlabel('n clusters (k)')\n",
    "plt.ylabel('Sum of squared distances')\n",
    "plt.title('Elbow graph for optimal k')\n",
    "plt.show()"
   ]
  }
 ],
 "metadata": {
  "kernelspec": {
   "display_name": "Python 3",
   "language": "python",
   "name": "python3"
  },
  "language_info": {
   "codemirror_mode": {
    "name": "ipython",
    "version": 3
   },
   "file_extension": ".py",
   "mimetype": "text/x-python",
   "name": "python",
   "nbconvert_exporter": "python",
   "pygments_lexer": "ipython3",
   "version": "3.8.6"
  }
 },
 "nbformat": 4,
 "nbformat_minor": 5
}
