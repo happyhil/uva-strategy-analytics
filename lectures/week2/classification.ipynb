{
 "cells": [
  {
   "cell_type": "code",
   "execution_count": null,
   "id": "endless-tract",
   "metadata": {},
   "outputs": [],
   "source": [
    "import pandas as pd\n",
    "import numpy as np\n",
    "import random\n",
    "from sklearn import metrics\n",
    "import matplotlib\n",
    "import matplotlib.pyplot as plt\n",
    "plt.style.use(\"fivethirtyeight\")\n",
    "plt.rcParams[\"figure.figsize\"] = [9, 6]"
   ]
  },
  {
   "cell_type": "code",
   "execution_count": null,
   "id": "metric-witness",
   "metadata": {},
   "outputs": [],
   "source": [
    "df = pd.read_csv('../../datasets/usa_election_dataset.csv')"
   ]
  },
  {
   "cell_type": "code",
   "execution_count": null,
   "id": "retained-apparatus",
   "metadata": {},
   "outputs": [],
   "source": [
    "df[:5]"
   ]
  },
  {
   "cell_type": "code",
   "execution_count": null,
   "id": "reflected-system",
   "metadata": {},
   "outputs": [],
   "source": [
    "df['winnerc'] = 0\n",
    "df.loc[lambda x: x['winner'].str.contains('Trump'), 'winnerc'] = 1\n",
    "df['largecity'] = 0\n",
    "df.loc[lambda x: x['tot_pop']>x['tot_pop'].mean(), 'largecity'] = 1"
   ]
  },
  {
   "cell_type": "markdown",
   "id": "smoking-begin",
   "metadata": {},
   "source": [
    "## plots"
   ]
  },
  {
   "cell_type": "code",
   "execution_count": null,
   "id": "stone-description",
   "metadata": {},
   "outputs": [],
   "source": [
    "# df.boxplot('yougn', by='winner')"
   ]
  },
  {
   "cell_type": "markdown",
   "id": "prescribed-retirement",
   "metadata": {},
   "source": [
    "## entropy & information gain"
   ]
  },
  {
   "cell_type": "code",
   "execution_count": null,
   "id": "conscious-locking",
   "metadata": {},
   "outputs": [],
   "source": [
    "from math import log"
   ]
  },
  {
   "cell_type": "code",
   "execution_count": null,
   "id": "rental-railway",
   "metadata": {},
   "outputs": [],
   "source": [
    "def pdentropy(dataf, column):\n",
    "    p1 = len(dataf.loc[lambda x: x[column]==list(set(x[column].values))[0]]) / len(dataf)\n",
    "    p2 = 1 - p1\n",
    "    return round(- p1 * log(p1, 2) - p2 * log(p2, 2), 3)"
   ]
  },
  {
   "cell_type": "code",
   "execution_count": null,
   "id": "later-person",
   "metadata": {},
   "outputs": [],
   "source": [
    "pdentropy(df, 'winner')"
   ]
  },
  {
   "cell_type": "code",
   "execution_count": null,
   "id": "confidential-relations",
   "metadata": {},
   "outputs": [],
   "source": [
    "entr_un = pdentropy(df, 'winner',)\n",
    "dfseg1 = df.loc[lambda x: x['largecity']==0]\n",
    "dfseg2 = df.loc[lambda x: x['largecity']==1]\n",
    "freq_seg1 = len(dfseg1) / len(df)\n",
    "entr_seg1 = pdentropy(dfseg1,  'winner',)\n",
    "freq_seg2 = len(dfseg2) / len(df)\n",
    "entr_seg2 = pdentropy(dfseg2,  'winner',)"
   ]
  },
  {
   "cell_type": "code",
   "execution_count": null,
   "id": "structured-chicago",
   "metadata": {},
   "outputs": [],
   "source": [
    "def information_gain_two_segments(entr_unseg, freq1, entr1, freq2, entr2):\n",
    "    return round(entr_unseg - freq1 * entr1 - freq2 * entr2, 3)"
   ]
  },
  {
   "cell_type": "code",
   "execution_count": null,
   "id": "local-colorado",
   "metadata": {},
   "outputs": [],
   "source": [
    "information_gain_two_segments(entr_un, freq_seg1, entr_seg1, freq_seg2, entr_seg2)"
   ]
  },
  {
   "cell_type": "markdown",
   "id": "united-fifty",
   "metadata": {},
   "source": [
    "## => Classification modeling"
   ]
  },
  {
   "cell_type": "code",
   "execution_count": null,
   "id": "useful-country",
   "metadata": {},
   "outputs": [],
   "source": [
    "from sklearn.preprocessing import StandardScaler\n",
    "from sklearn.model_selection import train_test_split"
   ]
  },
  {
   "cell_type": "code",
   "execution_count": null,
   "id": "bridal-cheese",
   "metadata": {},
   "outputs": [],
   "source": [
    "seed = 3\n",
    "indepedents = [\n",
    "    'tot_pop',\n",
    "    'yougn',\n",
    "    'female',\n",
    "    'black',\n",
    "]\n",
    "X = df[indepedents].values\n",
    "y = df['winnerc'].values\n",
    "X_train, X_test, y_train, y_test = train_test_split(X, y, test_size=0.22, random_state=seed)"
   ]
  },
  {
   "cell_type": "code",
   "execution_count": null,
   "id": "speaking-authorization",
   "metadata": {},
   "outputs": [],
   "source": [
    "scaler = StandardScaler()\n",
    "X_train = scaler.fit_transform(X_train)\n",
    "X_test = scaler.transform(X_test)"
   ]
  },
  {
   "cell_type": "code",
   "execution_count": null,
   "id": "macro-elimination",
   "metadata": {},
   "outputs": [],
   "source": [
    "## random forecast accuracy\n",
    "y_random = []\n",
    "for r in range(len(y_test)):\n",
    "    y_random.append(random.randint(0, 1))\n",
    "print(f'random accuracy: {round(metrics.accuracy_score(y_test, y_random), 3)}')"
   ]
  },
  {
   "cell_type": "code",
   "execution_count": null,
   "id": "about-reply",
   "metadata": {},
   "outputs": [],
   "source": [
    "from sklearn.metrics import plot_confusion_matrix\n",
    "plt.style.use(\"seaborn-dark\")"
   ]
  },
  {
   "cell_type": "markdown",
   "id": "legal-internship",
   "metadata": {},
   "source": [
    "# 1.1 logistic regression"
   ]
  },
  {
   "cell_type": "code",
   "execution_count": null,
   "id": "preliminary-figure",
   "metadata": {},
   "outputs": [],
   "source": [
    "from sklearn.linear_model import LogisticRegression\n",
    "classifier = LogisticRegression(random_state=seed, solver='sag', multi_class='ovr')\n",
    "classifier.fit(X_train, y_train)\n",
    "y_predict = classifier.predict(X_test)\n",
    "print(f'model accuracy: {round(metrics.accuracy_score(y_test, y_predict), 3)}')"
   ]
  },
  {
   "cell_type": "code",
   "execution_count": null,
   "id": "tender-charter",
   "metadata": {},
   "outputs": [],
   "source": [
    "dftmp = pd.DataFrame({'true': y_test, 'pred': y_predict})\n",
    "dftmp['count'] = 1\n",
    "dftmp.groupby(['true', 'pred'])[['count']].sum()"
   ]
  },
  {
   "cell_type": "code",
   "execution_count": null,
   "id": "affected-tanzania",
   "metadata": {},
   "outputs": [],
   "source": [
    "plot_confusion_matrix(classifier,\n",
    "                      X_test,\n",
    "                      y_test,\n",
    "                      display_labels=['BIDEN', 'TRUMP'],\n",
    "                      cmap=plt.cm.Reds,\n",
    "                      normalize='true')"
   ]
  },
  {
   "cell_type": "markdown",
   "id": "arctic-candy",
   "metadata": {},
   "source": [
    "## 1.2 SVM"
   ]
  },
  {
   "cell_type": "code",
   "execution_count": null,
   "id": "perfect-communication",
   "metadata": {},
   "outputs": [],
   "source": [
    "from sklearn.svm import LinearSVC"
   ]
  },
  {
   "cell_type": "code",
   "execution_count": null,
   "id": "variable-boundary",
   "metadata": {},
   "outputs": [],
   "source": [
    "classifier = LinearSVC(max_iter=100000, dual=True)\n",
    "classifier.fit(X_train, y_train)\n",
    "y_predict = classifier.predict(X_test)\n",
    "print(f'model accuracy: {round(metrics.accuracy_score(y_test, y_predict), 3)}')"
   ]
  },
  {
   "cell_type": "code",
   "execution_count": null,
   "id": "informative-wedding",
   "metadata": {},
   "outputs": [],
   "source": [
    "plot_confusion_matrix(classifier,\n",
    "                      X_test,\n",
    "                      y_test,\n",
    "                      display_labels=['BIDEN','TRUMP'],\n",
    "                      cmap=plt.cm.Reds,\n",
    "                      normalize='true')"
   ]
  },
  {
   "cell_type": "markdown",
   "id": "sized-backing",
   "metadata": {},
   "source": [
    "## 1.3 classification tree"
   ]
  },
  {
   "cell_type": "markdown",
   "id": "north-optimum",
   "metadata": {},
   "source": [
    "#### 1.3.1 Decision stump: 1 level tree"
   ]
  },
  {
   "cell_type": "code",
   "execution_count": null,
   "id": "disturbed-height",
   "metadata": {},
   "outputs": [],
   "source": [
    "from sklearn import tree\n",
    "from sklearn.tree import DecisionTreeClassifier"
   ]
  },
  {
   "cell_type": "code",
   "execution_count": null,
   "id": "republican-benjamin",
   "metadata": {},
   "outputs": [],
   "source": [
    "classifier = DecisionTreeClassifier(max_depth=1, random_state=0)\n",
    "classifier.fit(X_train, y_train)\n",
    "y_predict = classifier.predict(X_test)\n",
    "print(f'model accuracy: {round(metrics.accuracy_score(y_test, y_predict), 3)}')"
   ]
  },
  {
   "cell_type": "code",
   "execution_count": null,
   "id": "skilled-intersection",
   "metadata": {},
   "outputs": [],
   "source": [
    "tree.plot_tree(classifier)"
   ]
  },
  {
   "cell_type": "code",
   "execution_count": null,
   "id": "committed-ceramic",
   "metadata": {},
   "outputs": [],
   "source": [
    "count = 0\n",
    "for x in df[indepedents].columns:\n",
    "    print(f'{count}: {x}')\n",
    "    count += 1"
   ]
  },
  {
   "cell_type": "markdown",
   "id": "satisfied-soldier",
   "metadata": {},
   "source": [
    "#### 1.3.2 Tree: maximized on leaf sample size in train set"
   ]
  },
  {
   "cell_type": "code",
   "execution_count": null,
   "id": "honest-drunk",
   "metadata": {},
   "outputs": [],
   "source": [
    "from sklearn import tree\n",
    "from sklearn.tree import DecisionTreeClassifier"
   ]
  },
  {
   "cell_type": "code",
   "execution_count": null,
   "id": "historic-peter",
   "metadata": {},
   "outputs": [],
   "source": [
    "classifier = DecisionTreeClassifier(min_samples_leaf=int(len(y_train)*0.2), random_state=10)\n",
    "classifier.fit(X_train, y_train)\n",
    "y_predict = classifier.predict(X_test)\n",
    "print(f'model accuracy: {round(metrics.accuracy_score(y_test, y_predict), 3)}')"
   ]
  },
  {
   "cell_type": "code",
   "execution_count": null,
   "id": "victorian-diagnosis",
   "metadata": {},
   "outputs": [],
   "source": [
    "tree.plot_tree(classifier)"
   ]
  },
  {
   "cell_type": "code",
   "execution_count": null,
   "id": "incorporate-envelope",
   "metadata": {},
   "outputs": [],
   "source": [
    "count = 0\n",
    "for x in df[indepedents].columns:\n",
    "    print(f'{count}: {x}')\n",
    "    count += 1"
   ]
  },
  {
   "cell_type": "markdown",
   "id": "removed-impossible",
   "metadata": {},
   "source": [
    "#### 1.3.3 Random forecast"
   ]
  },
  {
   "cell_type": "code",
   "execution_count": null,
   "id": "affected-genome",
   "metadata": {},
   "outputs": [],
   "source": [
    "from sklearn.ensemble import RandomForestClassifier"
   ]
  },
  {
   "cell_type": "code",
   "execution_count": null,
   "id": "descending-employer",
   "metadata": {},
   "outputs": [],
   "source": [
    "classifier = RandomForestClassifier(n_estimators=100, max_depth=1, random_state=0)\n",
    "classifier.fit(X_train, y_train)\n",
    "y_predict = classifier.predict(X_test)\n",
    "print(f'model accuracy: {round(metrics.accuracy_score(y_test, y_predict), 3)}')"
   ]
  },
  {
   "cell_type": "code",
   "execution_count": null,
   "id": "burning-allen",
   "metadata": {},
   "outputs": [],
   "source": [
    "plot_confusion_matrix(classifier,\n",
    "                      X_test,\n",
    "                      y_test,\n",
    "                      display_labels=['BIDEN','TRUMP'],\n",
    "                      cmap=plt.cm.Reds,\n",
    "                      normalize='true')"
   ]
  },
  {
   "cell_type": "markdown",
   "id": "secure-details",
   "metadata": {},
   "source": [
    "## 1.4 neural networks"
   ]
  },
  {
   "cell_type": "code",
   "execution_count": null,
   "id": "compressed-firmware",
   "metadata": {},
   "outputs": [],
   "source": [
    "import tensorflow as tf\n",
    "from tensorflow import keras"
   ]
  },
  {
   "cell_type": "code",
   "execution_count": null,
   "id": "blond-search",
   "metadata": {},
   "outputs": [],
   "source": [
    "classifier = keras.Sequential([\n",
    "    keras.layers.Flatten(input_shape=(4,)),\n",
    "    keras.layers.Dense(16, activation=tf.nn.relu),\n",
    "\tkeras.layers.Dense(16, activation=tf.nn.relu),\n",
    "    keras.layers.Dense(1, activation=tf.nn.sigmoid),\n",
    "])\n",
    "\n",
    "classifier.compile(optimizer='adam',\n",
    "                   loss='binary_crossentropy',\n",
    "                   metrics=['accuracy'])\n",
    "\n",
    "classifier.fit(X_train, y_train, epochs=50, batch_size=1)"
   ]
  },
  {
   "cell_type": "code",
   "execution_count": null,
   "id": "certified-leisure",
   "metadata": {},
   "outputs": [],
   "source": [
    "test_loss, test_acc = classifier.evaluate(X_test, y_test)\n",
    "print(f'model accuracy: {round(test_acc, 3)}')"
   ]
  }
 ],
 "metadata": {
  "kernelspec": {
   "display_name": "Python 3",
   "language": "python",
   "name": "python3"
  },
  "language_info": {
   "codemirror_mode": {
    "name": "ipython",
    "version": 3
   },
   "file_extension": ".py",
   "mimetype": "text/x-python",
   "name": "python",
   "nbconvert_exporter": "python",
   "pygments_lexer": "ipython3",
   "version": "3.8.6"
  }
 },
 "nbformat": 4,
 "nbformat_minor": 5
}
