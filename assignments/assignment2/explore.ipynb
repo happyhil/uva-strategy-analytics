{
 "cells": [
  {
   "cell_type": "code",
   "execution_count": null,
   "id": "respective-polls",
   "metadata": {},
   "outputs": [],
   "source": [
    "import pandas as pd"
   ]
  },
  {
   "cell_type": "code",
   "execution_count": null,
   "id": "temporal-clerk",
   "metadata": {},
   "outputs": [],
   "source": [
    "df = pd.read_csv('data/prepped/spotify_full.csv')"
   ]
  },
  {
   "cell_type": "code",
   "execution_count": null,
   "id": "saving-sitting",
   "metadata": {},
   "outputs": [],
   "source": [
    "dftotals = df.groupby(['year', 'target'])[['track']].count()\n",
    "dftotals.columns = ['n_tracks']"
   ]
  },
  {
   "cell_type": "code",
   "execution_count": null,
   "id": "wrapped-gasoline",
   "metadata": {},
   "outputs": [],
   "source": [
    "dftotals"
   ]
  }
 ],
 "metadata": {
  "kernelspec": {
   "display_name": "Python 3",
   "language": "python",
   "name": "python3"
  },
  "language_info": {
   "codemirror_mode": {
    "name": "ipython",
    "version": 3
   },
   "file_extension": ".py",
   "mimetype": "text/x-python",
   "name": "python",
   "nbconvert_exporter": "python",
   "pygments_lexer": "ipython3",
   "version": "3.8.8"
  }
 },
 "nbformat": 4,
 "nbformat_minor": 5
}
