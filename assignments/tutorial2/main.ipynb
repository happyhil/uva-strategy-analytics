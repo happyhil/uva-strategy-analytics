{
 "cells": [
  {
   "cell_type": "code",
   "execution_count": null,
   "id": "fresh-mixer",
   "metadata": {},
   "outputs": [],
   "source": [
    "import pandas as pd\n",
    "from scipy.stats import pearsonr\n",
    "import seaborn as sns\n",
    "import matplotlib\n",
    "import matplotlib.pyplot as plt\n",
    "plt.style.use(\"ggplot\")\n",
    "plt.rcParams[\"figure.figsize\"] = [12, 8]"
   ]
  },
  {
   "cell_type": "code",
   "execution_count": null,
   "id": "monetary-factory",
   "metadata": {},
   "outputs": [],
   "source": [
    "df = pd.read_csv('Part 2 - Turnover.csv')"
   ]
  },
  {
   "cell_type": "markdown",
   "id": "subject-premises",
   "metadata": {},
   "source": [
    "## ex 8"
   ]
  },
  {
   "cell_type": "code",
   "execution_count": null,
   "id": "appreciated-reserve",
   "metadata": {},
   "outputs": [],
   "source": [
    "df.loc[lambda x: x['left']=='yes', 'left'] = 1\n",
    "df.loc[lambda x: x['left']=='no', 'left'] = 0\n",
    "df.loc[lambda x: x['promotion']=='yes', 'promotion'] = 1\n",
    "df.loc[lambda x: x['promotion']=='no', 'promotion'] = 0"
   ]
  },
  {
   "cell_type": "markdown",
   "id": "welsh-expense",
   "metadata": {},
   "source": [
    "### 8a"
   ]
  },
  {
   "cell_type": "code",
   "execution_count": null,
   "id": "understanding-eugene",
   "metadata": {},
   "outputs": [],
   "source": [
    "len(df.loc[lambda x: x['left']==1])"
   ]
  },
  {
   "cell_type": "markdown",
   "id": "secure-generator",
   "metadata": {},
   "source": [
    "### 8b"
   ]
  },
  {
   "cell_type": "code",
   "execution_count": null,
   "id": "spare-scanner",
   "metadata": {},
   "outputs": [],
   "source": [
    "corr, p = pearsonr(list(df['projects'].values), list(df['left'].values))\n",
    "print(round(corr, 3))\n",
    "print(round(p, 3))"
   ]
  },
  {
   "cell_type": "markdown",
   "id": "southeast-fancy",
   "metadata": {},
   "source": [
    "### 8c"
   ]
  },
  {
   "cell_type": "code",
   "execution_count": null,
   "id": "lucky-houston",
   "metadata": {},
   "outputs": [],
   "source": [
    "dfpromoleft = df.groupby(['promotion','left'], as_index=False)[['satisfaction']].count()\n",
    "dfsubs = []\n",
    "for y in dfpromoleft['promotion'].unique():\n",
    "    dfpromoleftsub = dfpromoleft.loc[lambda x: x['promotion']==y].copy()\n",
    "    dfpromoleftsub = dfpromoleftsub.rename(columns={'satisfaction': 'n_employees'})\n",
    "    dfpromoleftsub['share'] = round(dfpromoleftsub['n_employees'] / dfpromoleftsub['n_employees'].sum(), 2)\n",
    "    dfsubs.append(dfpromoleftsub)\n",
    "dfpromoleftnew = pd.concat(dfsubs)\n",
    "dfpromoleftnew"
   ]
  },
  {
   "cell_type": "markdown",
   "id": "foreign-family",
   "metadata": {},
   "source": [
    "### 8d"
   ]
  },
  {
   "cell_type": "code",
   "execution_count": null,
   "id": "prerequisite-chair",
   "metadata": {},
   "outputs": [],
   "source": [
    "dfdepartment = df.groupby(['department'], as_index=False).agg({\n",
    "    'satisfaction': 'count',\n",
    "    'left': 'sum',\n",
    "})\n",
    "dfdepartment = dfdepartment.rename(columns={'satisfaction': 'n_employees'})\n",
    "dfdepartment['turnover'] = round(dfdepartment['left'] / dfdepartment['n_employees'], 4)\n",
    "dfdepartment.sort_values('turnover', ascending=False)"
   ]
  },
  {
   "cell_type": "markdown",
   "id": "impressed-pharmacy",
   "metadata": {},
   "source": [
    "## ex 9"
   ]
  },
  {
   "cell_type": "markdown",
   "id": "upper-working",
   "metadata": {},
   "source": [
    "### 9a"
   ]
  },
  {
   "cell_type": "code",
   "execution_count": null,
   "id": "floppy-perfume",
   "metadata": {},
   "outputs": [],
   "source": [
    "import random"
   ]
  },
  {
   "cell_type": "code",
   "execution_count": null,
   "id": "indoor-israel",
   "metadata": {},
   "outputs": [],
   "source": [
    "mean = 0\n",
    "stdev = 0.3/3\n",
    "randomrounds1 = [random.gauss(mean, stdev) for _ in range(len(df))]\n",
    "randomrounds2 = [random.gauss(mean, stdev) for _ in range(len(df))]\n",
    "df['float1'] = randomrounds1\n",
    "df['float2'] = randomrounds2\n",
    "df['projects_rnd'] = df['projects'] + df['float1']\n",
    "df['tenure_rnd'] = df['tenure'] + df['float2']\n",
    "colors = {1:'red', 0:'blue'}\n",
    "plt.scatter(x=df['tenure_rnd'], y=df['projects_rnd'], c=df['left'].apply(lambda x: colors[x]), marker='x', s=20, linewidth=1)"
   ]
  },
  {
   "cell_type": "markdown",
   "id": "sealed-mouse",
   "metadata": {},
   "source": [
    "### 9b"
   ]
  },
  {
   "cell_type": "code",
   "execution_count": null,
   "id": "amber-component",
   "metadata": {},
   "outputs": [],
   "source": [
    "mean = 0\n",
    "stdev = 0.3/3\n",
    "randomrounds1 = [random.gauss(mean, stdev) for _ in range(len(df))]\n",
    "randomrounds2 = [random.gauss(mean, stdev) for _ in range(len(df))]\n",
    "df['float1'] = randomrounds1\n",
    "df['float2'] = randomrounds2\n",
    "df['satisfaction_rnd'] = df['satisfaction'] + df['float1']\n",
    "df['evaluation_rnd'] = df['evaluation'] + df['float2']\n",
    "colors = {1:'red', 0:'blue'}\n",
    "plt.scatter(x=df['satisfaction_rnd'], y=df['evaluation_rnd'], c=df['left'].apply(lambda x: colors[x]), marker='x', s=20, linewidth=1)"
   ]
  },
  {
   "cell_type": "markdown",
   "id": "liberal-special",
   "metadata": {},
   "source": [
    "## ex 10"
   ]
  },
  {
   "cell_type": "code",
   "execution_count": null,
   "id": "front-deadline",
   "metadata": {},
   "outputs": [],
   "source": [
    "from sklearn.linear_model import LogisticRegression\n",
    "from sklearn import tree\n",
    "from sklearn.tree import DecisionTreeClassifier\n",
    "from sklearn import preprocessing\n",
    "from sklearn.preprocessing import StandardScaler\n",
    "from sklearn import metrics\n",
    "from sklearn.metrics import plot_confusion_matrix\n",
    "plt.style.use(\"seaborn-dark\")"
   ]
  },
  {
   "cell_type": "code",
   "execution_count": null,
   "id": "unavailable-swedish",
   "metadata": {},
   "outputs": [],
   "source": [
    "def yesnostring_to_bool(dataf, columns=['accident', 'left', 'promotion']):\n",
    "    for c in columns:\n",
    "        dataf.loc[lambda x: x[c]=='yes', c] = 1\n",
    "        dataf.loc[lambda x: x[c]=='no', c] = 0\n",
    "        dataf[c] = dataf[c].astype(int)\n",
    "    return dataf\n",
    "\n",
    "def to_dummies(dataf, columns=['department', 'salary']):\n",
    "    for c in columns:\n",
    "        for i in dataf[c].unique():\n",
    "            dataf[c+i] = 0\n",
    "            dataf.loc[lambda x: x[c]==i, c+i] = 1\n",
    "    return dataf.drop(columns=columns)\n",
    "\n",
    "def to_categories(dataf, columns=['department', 'salary']):\n",
    "    le = preprocessing.LabelEncoder()\n",
    "    for c in columns:\n",
    "        dataf[c] = le.fit_transform(dataf[c])\n",
    "    return dataf"
   ]
  },
  {
   "cell_type": "code",
   "execution_count": null,
   "id": "outstanding-reynolds",
   "metadata": {},
   "outputs": [],
   "source": [
    "df = pd.read_csv('Part 2 - Turnover.csv')"
   ]
  },
  {
   "cell_type": "markdown",
   "id": "atmospheric-transformation",
   "metadata": {},
   "source": [
    "### 10a-b"
   ]
  },
  {
   "cell_type": "code",
   "execution_count": null,
   "id": "lightweight-webster",
   "metadata": {},
   "outputs": [],
   "source": [
    "dfprepped = df.pipe(yesnostring_to_bool).pipe(to_dummies)\n",
    "xcolumns = [c for c in dfprepped.columns if c != 'left']\n",
    "X = dfprepped[xcolumns].values\n",
    "y = dfprepped['left'].values\n",
    "scaler = StandardScaler()\n",
    "X = scaler.fit_transform(X)"
   ]
  },
  {
   "cell_type": "code",
   "execution_count": null,
   "id": "incorrect-ownership",
   "metadata": {},
   "outputs": [],
   "source": [
    "model = LogisticRegression(random_state=1, solver='sag', max_iter=10000).fit(X, y)\n",
    "predictions = model.predict(X)"
   ]
  },
  {
   "cell_type": "code",
   "execution_count": null,
   "id": "unlimited-jones",
   "metadata": {},
   "outputs": [],
   "source": [
    "dfpredictions = pd.DataFrame({'true': y, 'pred': predictions})\n",
    "dfpredictions['count'] = 1\n",
    "dfpredresult = dfpredictions.groupby(['true', 'pred'], as_index=False)[['count']].sum()"
   ]
  },
  {
   "cell_type": "code",
   "execution_count": null,
   "id": "drawn-tomorrow",
   "metadata": {},
   "outputs": [],
   "source": [
    "print('-- matrix:')\n",
    "metrics.confusion_matrix(y, predictions)"
   ]
  },
  {
   "cell_type": "code",
   "execution_count": null,
   "id": "crucial-brook",
   "metadata": {},
   "outputs": [],
   "source": [
    "print('-- model score:')\n",
    "print(f\"n correct: {dfpredresult.loc[lambda x: x['true']==x['pred']]['count'].sum()}\")\n",
    "print(dfpredresult.loc[lambda x: x['true']==x['pred']]['count'].sum() / dfpredresult['count'].sum())\n",
    "print(model.score(X, y))"
   ]
  },
  {
   "cell_type": "markdown",
   "id": "alert-table",
   "metadata": {},
   "source": [
    "### 11a-b"
   ]
  },
  {
   "cell_type": "code",
   "execution_count": null,
   "id": "illegal-funeral",
   "metadata": {},
   "outputs": [],
   "source": [
    "dfprepped = df.pipe(yesnostring_to_bool).pipe(to_categories)\n",
    "xcolumns = [c for c in dfprepped.columns if c != 'left']\n",
    "X = dfprepped[xcolumns].values\n",
    "y = dfprepped['left'].values"
   ]
  },
  {
   "cell_type": "code",
   "execution_count": null,
   "id": "vulnerable-offense",
   "metadata": {},
   "outputs": [],
   "source": [
    "model = DecisionTreeClassifier(max_depth=2).fit(X, y)\n",
    "predictions = model.predict(X)"
   ]
  },
  {
   "cell_type": "code",
   "execution_count": null,
   "id": "associate-singapore",
   "metadata": {},
   "outputs": [],
   "source": [
    "dfpred = pd.DataFrame({'true': y, 'pred': predictions})\n",
    "dfpred['count'] = 1\n",
    "dfpredresult = dfpred.groupby(['true', 'pred'], as_index=False)[['count']].sum()"
   ]
  },
  {
   "cell_type": "code",
   "execution_count": null,
   "id": "comparable-transformation",
   "metadata": {},
   "outputs": [],
   "source": [
    "print('-- matrix:')\n",
    "metrics.confusion_matrix(y, predictions)"
   ]
  },
  {
   "cell_type": "code",
   "execution_count": null,
   "id": "rental-addition",
   "metadata": {},
   "outputs": [],
   "source": [
    "print('-- model score:')\n",
    "print(f\"n correct: {dfpredresult.loc[lambda x: x['true']==x['pred']]['count'].sum()}\")\n",
    "print(dfpredresult.loc[lambda x: x['true']==x['pred']]['count'].sum() / dfpredresult['count'].sum())\n",
    "print(model.score(X, y))"
   ]
  },
  {
   "cell_type": "code",
   "execution_count": null,
   "id": "developed-design",
   "metadata": {},
   "outputs": [],
   "source": [
    "dfpredresult"
   ]
  },
  {
   "cell_type": "code",
   "execution_count": null,
   "id": "limiting-zealand",
   "metadata": {},
   "outputs": [],
   "source": [
    "tree.plot_tree(model)\n",
    "plt.show()"
   ]
  }
 ],
 "metadata": {
  "kernelspec": {
   "display_name": "Python 3",
   "language": "python",
   "name": "python3"
  },
  "language_info": {
   "codemirror_mode": {
    "name": "ipython",
    "version": 3
   },
   "file_extension": ".py",
   "mimetype": "text/x-python",
   "name": "python",
   "nbconvert_exporter": "python",
   "pygments_lexer": "ipython3",
   "version": "3.8.6"
  }
 },
 "nbformat": 4,
 "nbformat_minor": 5
}
