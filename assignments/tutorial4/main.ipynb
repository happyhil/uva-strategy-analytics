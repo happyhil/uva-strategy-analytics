{
 "cells": [
  {
   "cell_type": "code",
   "execution_count": 19,
   "id": "viral-beginning",
   "metadata": {},
   "outputs": [],
   "source": [
    "import pandas as pd"
   ]
  },
  {
   "cell_type": "markdown",
   "id": "unavailable-virgin",
   "metadata": {},
   "source": [
    "## -- import data"
   ]
  },
  {
   "cell_type": "code",
   "execution_count": 20,
   "id": "cosmetic-priest",
   "metadata": {},
   "outputs": [],
   "source": [
    "df = pd.read_excel('Part 3 - Churn.xlsx', sheet_name='Data')"
   ]
  },
  {
   "cell_type": "code",
   "execution_count": 21,
   "id": "parental-lottery",
   "metadata": {},
   "outputs": [
    {
     "data": {
      "text/html": [
       "<div>\n",
       "<style scoped>\n",
       "    .dataframe tbody tr th:only-of-type {\n",
       "        vertical-align: middle;\n",
       "    }\n",
       "\n",
       "    .dataframe tbody tr th {\n",
       "        vertical-align: top;\n",
       "    }\n",
       "\n",
       "    .dataframe thead th {\n",
       "        text-align: right;\n",
       "    }\n",
       "</style>\n",
       "<table border=\"1\" class=\"dataframe\">\n",
       "  <thead>\n",
       "    <tr style=\"text-align: right;\">\n",
       "      <th></th>\n",
       "      <th>income</th>\n",
       "      <th>college</th>\n",
       "      <th>overage</th>\n",
       "      <th>house</th>\n",
       "      <th>leftover</th>\n",
       "      <th>handset_price</th>\n",
       "      <th>over_15mins_calls_per_month</th>\n",
       "      <th>average_call_duration</th>\n",
       "      <th>reported_satisfaction</th>\n",
       "      <th>reported_usage_level</th>\n",
       "      <th>...</th>\n",
       "      <th>prob_no_promo</th>\n",
       "      <th>prob_new_phone</th>\n",
       "      <th>prob_discount</th>\n",
       "      <th>prob_minutes</th>\n",
       "      <th>client_value</th>\n",
       "      <th>not_value</th>\n",
       "      <th>target_most_method</th>\n",
       "      <th>target_most_prob</th>\n",
       "      <th>target_value</th>\n",
       "      <th>ev_targeting</th>\n",
       "    </tr>\n",
       "  </thead>\n",
       "  <tbody>\n",
       "    <tr>\n",
       "      <th>0</th>\n",
       "      <td>133772</td>\n",
       "      <td>0</td>\n",
       "      <td>0</td>\n",
       "      <td>639821</td>\n",
       "      <td>6</td>\n",
       "      <td>750</td>\n",
       "      <td>1</td>\n",
       "      <td>6</td>\n",
       "      <td>very_unsat</td>\n",
       "      <td>very_high</td>\n",
       "      <td>...</td>\n",
       "      <td>0.619814</td>\n",
       "      <td>0.624588</td>\n",
       "      <td>0.821665</td>\n",
       "      <td>0.655560</td>\n",
       "      <td>NaN</td>\n",
       "      <td>NaN</td>\n",
       "      <td>NaN</td>\n",
       "      <td>NaN</td>\n",
       "      <td>NaN</td>\n",
       "      <td>NaN</td>\n",
       "    </tr>\n",
       "    <tr>\n",
       "      <th>1</th>\n",
       "      <td>24142</td>\n",
       "      <td>1</td>\n",
       "      <td>64</td>\n",
       "      <td>161689</td>\n",
       "      <td>14</td>\n",
       "      <td>175</td>\n",
       "      <td>3</td>\n",
       "      <td>5</td>\n",
       "      <td>very_sat</td>\n",
       "      <td>little</td>\n",
       "      <td>...</td>\n",
       "      <td>0.409122</td>\n",
       "      <td>0.693155</td>\n",
       "      <td>0.413366</td>\n",
       "      <td>0.422249</td>\n",
       "      <td>NaN</td>\n",
       "      <td>NaN</td>\n",
       "      <td>NaN</td>\n",
       "      <td>NaN</td>\n",
       "      <td>NaN</td>\n",
       "      <td>NaN</td>\n",
       "    </tr>\n",
       "    <tr>\n",
       "      <th>2</th>\n",
       "      <td>108632</td>\n",
       "      <td>1</td>\n",
       "      <td>56</td>\n",
       "      <td>759434</td>\n",
       "      <td>36</td>\n",
       "      <td>503</td>\n",
       "      <td>3</td>\n",
       "      <td>1</td>\n",
       "      <td>unsat</td>\n",
       "      <td>little</td>\n",
       "      <td>...</td>\n",
       "      <td>0.619483</td>\n",
       "      <td>0.623179</td>\n",
       "      <td>0.778082</td>\n",
       "      <td>0.645494</td>\n",
       "      <td>NaN</td>\n",
       "      <td>NaN</td>\n",
       "      <td>NaN</td>\n",
       "      <td>NaN</td>\n",
       "      <td>NaN</td>\n",
       "      <td>NaN</td>\n",
       "    </tr>\n",
       "    <tr>\n",
       "      <th>3</th>\n",
       "      <td>121457</td>\n",
       "      <td>0</td>\n",
       "      <td>182</td>\n",
       "      <td>150447</td>\n",
       "      <td>15</td>\n",
       "      <td>679</td>\n",
       "      <td>18</td>\n",
       "      <td>1</td>\n",
       "      <td>very_unsat</td>\n",
       "      <td>very_little</td>\n",
       "      <td>...</td>\n",
       "      <td>0.136788</td>\n",
       "      <td>0.246251</td>\n",
       "      <td>0.322873</td>\n",
       "      <td>0.187357</td>\n",
       "      <td>NaN</td>\n",
       "      <td>NaN</td>\n",
       "      <td>NaN</td>\n",
       "      <td>NaN</td>\n",
       "      <td>NaN</td>\n",
       "      <td>NaN</td>\n",
       "    </tr>\n",
       "    <tr>\n",
       "      <th>4</th>\n",
       "      <td>26729</td>\n",
       "      <td>1</td>\n",
       "      <td>49</td>\n",
       "      <td>296273</td>\n",
       "      <td>62</td>\n",
       "      <td>238</td>\n",
       "      <td>4</td>\n",
       "      <td>2</td>\n",
       "      <td>avg</td>\n",
       "      <td>little</td>\n",
       "      <td>...</td>\n",
       "      <td>0.478369</td>\n",
       "      <td>0.674470</td>\n",
       "      <td>0.493121</td>\n",
       "      <td>0.505534</td>\n",
       "      <td>NaN</td>\n",
       "      <td>NaN</td>\n",
       "      <td>NaN</td>\n",
       "      <td>NaN</td>\n",
       "      <td>NaN</td>\n",
       "      <td>NaN</td>\n",
       "    </tr>\n",
       "  </tbody>\n",
       "</table>\n",
       "<p>5 rows × 21 columns</p>\n",
       "</div>"
      ],
      "text/plain": [
       "   income  college  overage   house  leftover  handset_price  \\\n",
       "0  133772        0        0  639821         6            750   \n",
       "1   24142        1       64  161689        14            175   \n",
       "2  108632        1       56  759434        36            503   \n",
       "3  121457        0      182  150447        15            679   \n",
       "4   26729        1       49  296273        62            238   \n",
       "\n",
       "   over_15mins_calls_per_month  average_call_duration reported_satisfaction  \\\n",
       "0                            1                      6            very_unsat   \n",
       "1                            3                      5              very_sat   \n",
       "2                            3                      1                 unsat   \n",
       "3                           18                      1            very_unsat   \n",
       "4                            4                      2                   avg   \n",
       "\n",
       "  reported_usage_level  ... prob_no_promo  prob_new_phone  prob_discount  \\\n",
       "0            very_high  ...      0.619814        0.624588       0.821665   \n",
       "1               little  ...      0.409122        0.693155       0.413366   \n",
       "2               little  ...      0.619483        0.623179       0.778082   \n",
       "3          very_little  ...      0.136788        0.246251       0.322873   \n",
       "4               little  ...      0.478369        0.674470       0.493121   \n",
       "\n",
       "   prob_minutes  client_value  not_value  target_most_method  \\\n",
       "0      0.655560           NaN        NaN                 NaN   \n",
       "1      0.422249           NaN        NaN                 NaN   \n",
       "2      0.645494           NaN        NaN                 NaN   \n",
       "3      0.187357           NaN        NaN                 NaN   \n",
       "4      0.505534           NaN        NaN                 NaN   \n",
       "\n",
       "   target_most_prob  target_value  ev_targeting  \n",
       "0               NaN           NaN           NaN  \n",
       "1               NaN           NaN           NaN  \n",
       "2               NaN           NaN           NaN  \n",
       "3               NaN           NaN           NaN  \n",
       "4               NaN           NaN           NaN  \n",
       "\n",
       "[5 rows x 21 columns]"
      ]
     },
     "execution_count": 21,
     "metadata": {},
     "output_type": "execute_result"
    }
   ],
   "source": [
    "df[:5]"
   ]
  },
  {
   "cell_type": "markdown",
   "id": "exceptional-yahoo",
   "metadata": {},
   "source": [
    "## 10a"
   ]
  },
  {
   "cell_type": "code",
   "execution_count": 22,
   "id": "unusual-theme",
   "metadata": {},
   "outputs": [],
   "source": [
    "df['client_value'] = df['income'] * 0.0025"
   ]
  },
  {
   "cell_type": "markdown",
   "id": "metric-childhood",
   "metadata": {},
   "source": [
    "## 10b"
   ]
  },
  {
   "cell_type": "code",
   "execution_count": 23,
   "id": "ideal-narrow",
   "metadata": {},
   "outputs": [],
   "source": [
    "df['not_value'] = df['prob_no_promo'] * df['client_value']"
   ]
  },
  {
   "cell_type": "markdown",
   "id": "measured-waterproof",
   "metadata": {},
   "source": [
    "## 10c"
   ]
  },
  {
   "cell_type": "code",
   "execution_count": 24,
   "id": "floating-acrylic",
   "metadata": {},
   "outputs": [],
   "source": [
    "df['target_most_method'] = df[['prob_no_promo','prob_new_phone','prob_discount','prob_minutes']].idxmax(axis=1)"
   ]
  },
  {
   "cell_type": "markdown",
   "id": "round-shape",
   "metadata": {},
   "source": [
    "## 10d"
   ]
  },
  {
   "cell_type": "code",
   "execution_count": 27,
   "id": "reflected-vietnamese",
   "metadata": {},
   "outputs": [],
   "source": [
    "df['target_most_prob'] =  df[['prob_no_promo','prob_new_phone','prob_discount','prob_minutes']].max(axis=1)"
   ]
  },
  {
   "cell_type": "markdown",
   "id": "female-enemy",
   "metadata": {},
   "source": [
    "## 10e"
   ]
  },
  {
   "cell_type": "code",
   "execution_count": 30,
   "id": "hundred-prior",
   "metadata": {},
   "outputs": [],
   "source": [
    "df['target_value'] = df['client_value'] * df['target_most_prob'] - 75"
   ]
  },
  {
   "cell_type": "markdown",
   "id": "adjusted-fields",
   "metadata": {},
   "source": [
    "## 10f"
   ]
  },
  {
   "cell_type": "code",
   "execution_count": 33,
   "id": "adjusted-beads",
   "metadata": {},
   "outputs": [],
   "source": [
    "df['ev_targeting'] = df['target_value'] - df['not_value']"
   ]
  },
  {
   "cell_type": "markdown",
   "id": "global-gambling",
   "metadata": {},
   "source": [
    "## 11"
   ]
  },
  {
   "cell_type": "code",
   "execution_count": 40,
   "id": "annoying-sponsorship",
   "metadata": {},
   "outputs": [
    {
     "data": {
      "text/html": [
       "<div>\n",
       "<style scoped>\n",
       "    .dataframe tbody tr th:only-of-type {\n",
       "        vertical-align: middle;\n",
       "    }\n",
       "\n",
       "    .dataframe tbody tr th {\n",
       "        vertical-align: top;\n",
       "    }\n",
       "\n",
       "    .dataframe thead th {\n",
       "        text-align: right;\n",
       "    }\n",
       "</style>\n",
       "<table border=\"1\" class=\"dataframe\">\n",
       "  <thead>\n",
       "    <tr style=\"text-align: right;\">\n",
       "      <th></th>\n",
       "      <th>income</th>\n",
       "    </tr>\n",
       "    <tr>\n",
       "      <th>target_most_method</th>\n",
       "      <th></th>\n",
       "    </tr>\n",
       "  </thead>\n",
       "  <tbody>\n",
       "    <tr>\n",
       "      <th>prob_discount</th>\n",
       "      <td>2769</td>\n",
       "    </tr>\n",
       "    <tr>\n",
       "      <th>prob_minutes</th>\n",
       "      <td>43</td>\n",
       "    </tr>\n",
       "    <tr>\n",
       "      <th>prob_new_phone</th>\n",
       "      <td>2188</td>\n",
       "    </tr>\n",
       "  </tbody>\n",
       "</table>\n",
       "</div>"
      ],
      "text/plain": [
       "                    income\n",
       "target_most_method        \n",
       "prob_discount         2769\n",
       "prob_minutes            43\n",
       "prob_new_phone        2188"
      ]
     },
     "execution_count": 40,
     "metadata": {},
     "output_type": "execute_result"
    }
   ],
   "source": [
    "df.groupby(['target_most_method'])[['income']].count()"
   ]
  },
  {
   "cell_type": "code",
   "execution_count": 43,
   "id": "sharp-fabric",
   "metadata": {},
   "outputs": [
    {
     "data": {
      "text/html": [
       "<div>\n",
       "<style scoped>\n",
       "    .dataframe tbody tr th:only-of-type {\n",
       "        vertical-align: middle;\n",
       "    }\n",
       "\n",
       "    .dataframe tbody tr th {\n",
       "        vertical-align: top;\n",
       "    }\n",
       "\n",
       "    .dataframe thead th {\n",
       "        text-align: right;\n",
       "    }\n",
       "</style>\n",
       "<table border=\"1\" class=\"dataframe\">\n",
       "  <thead>\n",
       "    <tr style=\"text-align: right;\">\n",
       "      <th></th>\n",
       "      <th>income</th>\n",
       "    </tr>\n",
       "    <tr>\n",
       "      <th>target_most_method</th>\n",
       "      <th></th>\n",
       "    </tr>\n",
       "  </thead>\n",
       "  <tbody>\n",
       "    <tr>\n",
       "      <th>prob_discount</th>\n",
       "      <td>505</td>\n",
       "    </tr>\n",
       "    <tr>\n",
       "      <th>prob_new_phone</th>\n",
       "      <td>3</td>\n",
       "    </tr>\n",
       "  </tbody>\n",
       "</table>\n",
       "</div>"
      ],
      "text/plain": [
       "                    income\n",
       "target_most_method        \n",
       "prob_discount          505\n",
       "prob_new_phone           3"
      ]
     },
     "execution_count": 43,
     "metadata": {},
     "output_type": "execute_result"
    }
   ],
   "source": [
    "df.loc[lambda x: x['ev_targeting']>0].groupby(['target_most_method'])[['income']].count()"
   ]
  },
  {
   "cell_type": "code",
   "execution_count": 47,
   "id": "dutch-honolulu",
   "metadata": {},
   "outputs": [
    {
     "data": {
      "text/html": [
       "<div>\n",
       "<style scoped>\n",
       "    .dataframe tbody tr th:only-of-type {\n",
       "        vertical-align: middle;\n",
       "    }\n",
       "\n",
       "    .dataframe tbody tr th {\n",
       "        vertical-align: top;\n",
       "    }\n",
       "\n",
       "    .dataframe thead th {\n",
       "        text-align: right;\n",
       "    }\n",
       "</style>\n",
       "<table border=\"1\" class=\"dataframe\">\n",
       "  <thead>\n",
       "    <tr style=\"text-align: right;\">\n",
       "      <th></th>\n",
       "      <th>ev_targeting</th>\n",
       "    </tr>\n",
       "    <tr>\n",
       "      <th>target_most_method</th>\n",
       "      <th></th>\n",
       "    </tr>\n",
       "  </thead>\n",
       "  <tbody>\n",
       "    <tr>\n",
       "      <th>prob_discount</th>\n",
       "      <td>13151.28</td>\n",
       "    </tr>\n",
       "    <tr>\n",
       "      <th>prob_new_phone</th>\n",
       "      <td>12.62</td>\n",
       "    </tr>\n",
       "  </tbody>\n",
       "</table>\n",
       "</div>"
      ],
      "text/plain": [
       "                    ev_targeting\n",
       "target_most_method              \n",
       "prob_discount           13151.28\n",
       "prob_new_phone             12.62"
      ]
     },
     "execution_count": 47,
     "metadata": {},
     "output_type": "execute_result"
    }
   ],
   "source": [
    "df.loc[lambda x: x['ev_targeting']>0].groupby(['target_most_method'])[['ev_targeting']].sum().round(2)"
   ]
  },
  {
   "cell_type": "code",
   "execution_count": 48,
   "id": "round-cheat",
   "metadata": {},
   "outputs": [
    {
     "data": {
      "text/plain": [
       "13163.901087995988"
      ]
     },
     "execution_count": 48,
     "metadata": {},
     "output_type": "execute_result"
    }
   ],
   "source": [
    "df.loc[lambda x: x['ev_targeting']>0].groupby(['target_most_method'])[['ev_targeting']].sum()['ev_targeting'].sum()"
   ]
  }
 ],
 "metadata": {
  "kernelspec": {
   "display_name": "Python 3",
   "language": "python",
   "name": "python3"
  },
  "language_info": {
   "codemirror_mode": {
    "name": "ipython",
    "version": 3
   },
   "file_extension": ".py",
   "mimetype": "text/x-python",
   "name": "python",
   "nbconvert_exporter": "python",
   "pygments_lexer": "ipython3",
   "version": "3.8.6"
  }
 },
 "nbformat": 4,
 "nbformat_minor": 5
}
