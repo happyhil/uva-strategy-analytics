{
 "cells": [
  {
   "cell_type": "code",
   "execution_count": 1,
   "id": "looking-montana",
   "metadata": {},
   "outputs": [],
   "source": [
    "import pandas as pd"
   ]
  },
  {
   "cell_type": "code",
   "execution_count": null,
   "id": "supposed-blanket",
   "metadata": {},
   "outputs": [],
   "source": [
    "dffirm_data = pd.read_excel('Part 1 - Firm data.xlsx', sheet_name='Data')\n",
    "# dfma = pd.read_excel('Part 2 - M&A data.xlsx')\n",
    "# dfstates = pd.read_csv('Part 1 - US States.csv', sep='\\t')"
   ]
  },
  {
   "cell_type": "code",
   "execution_count": null,
   "id": "southwest-rendering",
   "metadata": {},
   "outputs": [],
   "source": [
    "dffirm_ex9 = pd.read_excel('Part 1 - Firm data.xlsx', sheet_name='Ex9')"
   ]
  },
  {
   "cell_type": "code",
   "execution_count": null,
   "id": "reduced-chamber",
   "metadata": {},
   "outputs": [],
   "source": [
    "dffirm_ex9_unique = dffirm_ex9.drop_duplicates(subset=['End-year date'])"
   ]
  },
  {
   "cell_type": "code",
   "execution_count": null,
   "id": "sufficient-throw",
   "metadata": {},
   "outputs": [],
   "source": [
    "dffirm_ex9_unique"
   ]
  }
 ],
 "metadata": {
  "kernelspec": {
   "display_name": "Python 3",
   "language": "python",
   "name": "python3"
  },
  "language_info": {
   "codemirror_mode": {
    "name": "ipython",
    "version": 3
   },
   "file_extension": ".py",
   "mimetype": "text/x-python",
   "name": "python",
   "nbconvert_exporter": "python",
   "pygments_lexer": "ipython3",
   "version": "3.8.6"
  }
 },
 "nbformat": 4,
 "nbformat_minor": 5
}
